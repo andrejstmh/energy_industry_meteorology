{
 "cells": [
  {
   "attachments": {},
   "cell_type": "markdown",
   "metadata": {},
   "source": [
    "# [Ievads meteoroloģijā un klimatoloģijā](Ievads_01_01.ipynb)"
   ]
  },
  {
   "attachments": {},
   "cell_type": "markdown",
   "metadata": {},
   "source": [
    "# [Saules radiācija](saules_radiacija.ipynb)"
   ]
  },
  {
   "attachments": {},
   "cell_type": "markdown",
   "metadata": {},
   "source": [
    "1.\tIevads meteoroloģijā un klimatoloģijā. \n",
    "a.\tMeteoroloģiskie mainīgie, to mērīšana.  \n",
    "b.\tMērījumu stacijas Latvijā. \n",
    "c.\tAtšķirības starp “laika apstākļiem” un “klimatu”.  \n",
    "d.\tGalvenās problēmas saistībā ar enerģētiku:  \n",
    "i.\tEnerģijas uzkrāšana (proti, ka to nevar uzkrāt),  \n",
    "ii.\tenerģijas ražošanas – patēriņa balansēšana. Intermittent resursi. \n",
    "e.\tPāreja uz atjaunojamiem energoresursiem – politikas perspektīvas. \n",
    "2.\tEnerģijas resursi uz Zemes? Zemes siltuma bilance, enerģijas plūsma atmosfērā, siltumnīcas efekts. \n",
    "3.\tKā enerģija pārvietojas  “pa vadu”? Vai tiešām pa vadu? \n",
    "4.\tElektrības ģenerēšana, turbīnas. \n",
    "a.\tTurbīnas uzbūves fizikālie pamati \n",
    "b.\tVēja turbīnas uzbūve \n",
    "c.\tElektriskās enerģijas ražošana \n",
    "5.\tHidroelektrostacijas \n",
    "a.\tHidroelektrostaciju darbības pamatprincipi. No kurienes ņem enerģiju? \n",
    "b.\tJēdziens par upju noteci, sakarība starp ūdens līmeni un plūsmas ātrumi \n",
    "c.\tUpju noteces gada cikls Latvijā \n",
    "6.\tTermo-elektrostaciju galvenie darbības principi, koģenerācijas stacijas \n",
    "7.\tVēja enerģētika \n",
    "a.\tVēja ātrums līdz 500 m augstumam,  \n",
    "i.\tlogaritmiskais vēja profils,  \n",
    "ii.\tVirsmas lietojuma ietekme \n",
    "b.\tVēja mērīšanas metodes: \n",
    "i.\tAugstie masti \n",
    "ii.\tLidars, \n",
    "iii.\tSodars (?) \n",
    "c.\tVēja resursu modelēšana \n",
    "8.\tSaules enerģija \n",
    "a.\tSaules paneļu darbības principi, tiešā ūdens sildīšana \n",
    "b.\tSaules enerģija, kas sasniedz zemi Latvijā, tās atkarība no diennakts laika un gadalaika. \n",
    "c.\tSaules paneļu efektivitāte \n",
    "9.\tElektrības tīkla balansēšana \n",
    "a.\tPārskats par šobrīd uzstādītajām jaudām \n",
    "b.\tStarpsavienojumi ar citām valstīm \n",
    "c.\tElektrības tirgus veidošanās, jēdziens par day-ahead cenām \n",
    "d.\tElektrības cenas prognozēšana \n",
    "10.\tAtomenerģija \n",
    "a.\tAES darbības principi \n",
    "b.\tAES drošības jautājumi \n",
    "11.\tSiltuma apsildes jautājumi \n",
    "a.\tSiltuma ražošanas veidi \n",
    "i.\tDabasgāze, politiskie jautājumi \n",
    "ii.\tSiltuma sūkņi\n"
   ]
  },
  {
   "cell_type": "code",
   "execution_count": null,
   "metadata": {},
   "outputs": [],
   "source": [
    "%pip list"
   ]
  },
  {
   "cell_type": "code",
   "execution_count": null,
   "metadata": {},
   "outputs": [],
   "source": [
    "!jupyter labextension list"
   ]
  },
  {
   "cell_type": "code",
   "execution_count": null,
   "metadata": {},
   "outputs": [],
   "source": []
  }
 ],
 "metadata": {
  "kernelspec": {
   "display_name": "Python 3 (ipykernel)",
   "language": "python",
   "name": "python3"
  },
  "language_info": {
   "codemirror_mode": {
    "name": "ipython",
    "version": 3
   },
   "file_extension": ".py",
   "mimetype": "text/x-python",
   "name": "python",
   "nbconvert_exporter": "python",
   "pygments_lexer": "ipython3",
   "version": "3.10.11"
  },
  "widgets": {
   "state": {
    "056d32c70f644417b86a152d3a2385bd": {
     "views": [
      {
       "cell_index": 14
      }
     ]
    },
    "2307e84bf81346d49818eef8862360ca": {
     "views": [
      {
       "cell_index": 22
      }
     ]
    },
    "4e7a6f5db8e74905a08d4636afa3b82f": {
     "views": [
      {
       "cell_index": 15
      }
     ]
    },
    "e762d7875083491eb2933958cc3331a9": {
     "views": [
      {
       "cell_index": 21
      }
     ]
    }
   },
   "version": "1.2.0"
  }
 },
 "nbformat": 4,
 "nbformat_minor": 4
}
