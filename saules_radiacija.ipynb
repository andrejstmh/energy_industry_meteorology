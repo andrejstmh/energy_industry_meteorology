{
 "cells": [
  {
   "attachments": {},
   "cell_type": "markdown",
   "metadata": {},
   "source": []
  },
  {
   "attachments": {},
   "cell_type": "markdown",
   "metadata": {},
   "source": [
    "# [Saules radiācijas nozīme atmosfēras procesos](https://www.meteolapa.lv/raksti/2416/saules-radiacijas-nozime-atmosferas-procesos)\n"
   ]
  },
  {
   "attachments": {},
   "cell_type": "markdown",
   "metadata": {},
   "source": [
    "## Kam jāpievērš uzmanību:\n",
    "1. Saules konstante\n",
    "2. Saules konstante"
   ]
  },
  {
   "cell_type": "code",
   "execution_count": null,
   "metadata": {},
   "outputs": [],
   "source": [
    "https://edu.lu.lv/mod/book/view.php?id=39395&chapterid=294"
   ]
  },
  {
   "cell_type": "code",
   "execution_count": null,
   "metadata": {},
   "outputs": [],
   "source": [
    "Saules radiācija"
   ]
  },
  {
   "cell_type": "code",
   "execution_count": null,
   "metadata": {},
   "outputs": [],
   "source": []
  }
 ],
 "metadata": {
  "kernelspec": {
   "display_name": "Python 3 (ipykernel)",
   "language": "python",
   "name": "python3"
  },
  "language_info": {
   "codemirror_mode": {
    "name": "ipython",
    "version": 3
   },
   "file_extension": ".py",
   "mimetype": "text/x-python",
   "name": "python",
   "nbconvert_exporter": "python",
   "pygments_lexer": "ipython3",
   "version": "3.10.11"
  },
  "widgets": {
   "state": {
    "056d32c70f644417b86a152d3a2385bd": {
     "views": [
      {
       "cell_index": 14
      }
     ]
    },
    "2307e84bf81346d49818eef8862360ca": {
     "views": [
      {
       "cell_index": 22
      }
     ]
    },
    "4e7a6f5db8e74905a08d4636afa3b82f": {
     "views": [
      {
       "cell_index": 15
      }
     ]
    },
    "e762d7875083491eb2933958cc3331a9": {
     "views": [
      {
       "cell_index": 21
      }
     ]
    }
   },
   "version": "1.2.0"
  }
 },
 "nbformat": 4,
 "nbformat_minor": 4
}
